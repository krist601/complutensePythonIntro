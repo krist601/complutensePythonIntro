{
 "cells": [
  {
   "cell_type": "markdown",
   "id": "42d757fb",
   "metadata": {
    "deletable": false,
    "editable": false,
    "nbgrader": {
     "cell_type": "markdown",
     "checksum": "16d9edfbb67061dee0e78d6c8bd4bda4",
     "grade": false,
     "grade_id": "cell-6931830012e6c23e",
     "locked": true,
     "schema_version": 3,
     "solution": false,
     "task": false
    }
   },
   "source": [
    "# Relación de ejercicios 2\n",
    "\n",
    "### Lee detenidamente las siguientes instrucciones y borra `raise NotImplementedError` en todas las celdas\n",
    "\n",
    "En cada trozo de código debes responder a la pregunta formulada, asegurándote de que el resultado queda guardado en la(s) variable(s) indicadas, que por defecto vienen inicializadas a `None`. Puedes usar variables intermedias siempre que el resultado final del cálculo quede guardado exactamente en la variable que indica el enunciado (debes reemplazar `None` el código necesario, pero nunca cambiar el nombre de las variables ya creadas). \n",
    "\n",
    "Después de cada ejercicio verás varias líneas de código ya hechas. Ejecútalas todas (no modifiques su código) y te dirán si tu solución es correcta o no, sin darte pistas de cómo se resuelve (el código de los tests no guarda relación con el código de la solución). Si la solución es correcta, no se mostrará nada, pero si es incorrecta, verás un error indicando cuál es el test que tu solución no pasa. Además de esas pruebas, se realizarán algunas más (ocultas) a la hora de puntuar el ejercicio, pero si tu código pasa con éxito las líneas que ves, puedes estar bastante seguro de que tu solución es correcta. Asegúrate de que todas las celdas de auto-evaluación indican que tu solución es correcta antes de subir el ejercicio a la plataforma. En caso contrario, no dudes en preguntar las dudas a través del foro -siempre explicando la duda en palabras, sin pegar código fuente-.\n",
    "\n",
    "Una vez finalizada la actividad, guarda tu fichero, ciérralo con File -> Close and Halt, y después vuélvelo a abrir y ejecútalo completo pinchando en Cell -> Run All Cells, y asegúrate de que no se lanza ningún error. De esta manera comprobarás que no has olvidado nada y que es posible ejecutarlo completo desde 0 y sin errores. No se corregirá ningún fichero que tenga errores de sintaxis y no se pueda, como mínimo, ejecutar completamente. No pasa nada si alguna de las comprobaciones lanza errores por ser incorrecta, pero el código de cada ejercicio no puede tener errores de sintaxis y debe al menos poderse ejecutar.\n",
    "\n",
    "RECUERDA SUBIR CADA UNO DE LOS FICHEROS .ipynb TAL CUAL (sueltos), SIN COMPRIMIR Y SIN CAMBIARLES EL NOMBRE. Los ficheros subidos deben tener **exactamente el mismo nombre de fichero que tenían cuando los recibiste**. No subas ningún PDF ni ningún fichero ZIP ni nada similar. La plataforma ya los separa automáticamente en carpetas que traen el nombre y apellidos del alumno, por lo que NO es necesario que lo pongas en ninguna parte.\n",
    "\n",
    "### Las funciones NUNCA deben hacer print() ni mostrar nada por pantalla, sino devolver el resultado del cálculo utilizando return. Recuerda que imprimir por pantalla no es devolver un resultado."
   ]
  },
  {
   "cell_type": "markdown",
   "id": "e1400d15",
   "metadata": {
    "deletable": false,
    "editable": false,
    "nbgrader": {
     "cell_type": "markdown",
     "checksum": "00f0d9528e00e572930a34f723386ac1",
     "grade": false,
     "grade_id": "ej1_enunciado",
     "locked": true,
     "schema_version": 3,
     "solution": false,
     "task": false
    }
   },
   "source": [
    "**Ejercicio 1 (1.5 puntos).** Crear el siguiente DataFrame y almacenarlo en la variable `personas`, poniendo los nombres de personas como columna de índice.\n",
    "\n",
    "| name      | age | height|weight|sex|\n",
    "|-----------|:---:|:-----:|:----:|:-:|\n",
    "| Alex      | 25  |   177 |   57 | F |\n",
    "| Lilly     | 31  |   163 |   69 | F |\n",
    "| Mark      | 23  |   190 |   83 | M |\n",
    "| Oliver    | 52  |   179 |   75 | M |\n",
    "| Martha    | 76  |   163 |   70 | F |\n",
    "| Lucas     | 49  |   183 |   83 | M |\n",
    "| Caroline  | 26  |   164 |   53 | F |\n",
    "\n",
    "- A continuación, crear en la variable `surname` un objeto Series (no un DataFrame) con el siguiente contenido en el orden que se muestra y con su correspondiente índice, y posteriormente añadir dicha columna al data.frame `personas` por la **izquierda** , SIN modificar el contenido de `personas` sino guardando el resultado en una nueva variable `personas_ampliado` de tipo DataFrame. Nótese que el orden de los elementos de la serie no coincide con el de las filas del DataFrame anterior, pero como están identificados con su índice, se podrá añadir correctamente. \n",
    "  * PISTA: puedes usar la función `assign(nueva_col=valores)` de los DataFrames, que te devolverá un nuevoDF (consulta la documentación [aquí](https://pandas.pydata.org/docs/reference/api/pandas.DataFrame.assign.html)). También puedes copiar primero el DF en otra variable (OJO: no basta con asignarla, sino que debes invocar a `copy()`) y modificar esa variable.\n",
    "\n",
    "|           | surname  |\n",
    "|-----------|:---------|\n",
    "| Lilly     | Potter   |\n",
    "| Caroline  | Butter   |\n",
    "| Mark      | Marquez  |\n",
    "| Alex      | Song     |\n",
    "| Martha    | Argerich |\n",
    "| Lucas     | Brown    |\n",
    "| Oliver    | Atom     |\n",
    "\n",
    "- Usando la función `.str.cat(otra_serie, separador)`, de un objeto serie, modificar el DataFrame `personas_ampliado` añadiendo una nueva columna `surname_age` por la derecha, que contenga la concatenación de la serie (columna) `surname` con la serie resultante de convertir la serie `age` a string con el método `astype(str)`. Utiliza `\"_\"` (guión bajo) como separador. PISTA: invoca a `.str.cat` sobre la serie `surname` pasando `age` como argumento."
   ]
  },
  {
   "cell_type": "code",
   "execution_count": 11,
   "id": "8824ba9b",
   "metadata": {
    "deletable": false,
    "echo": true,
    "nbgrader": {
     "cell_type": "code",
     "checksum": "454296b544a75ead594272dac89ed322",
     "grade": false,
     "grade_id": "ej1_solucion",
     "locked": false,
     "schema_version": 3,
     "solution": true,
     "task": false
    },
    "output": false
   },
   "outputs": [],
   "source": [
    "import pandas as pd\n",
    "\n",
    "personas = None\n",
    "surname = None\n",
    "personas_ampliado = None\n",
    "\n",
    "data = {\n",
    "    'name': ['Alex', 'Lilly', 'Mark', 'Oliver', 'Martha', 'Lucas', 'Caroline'],\n",
    "    'age': [25, 31, 23, 52, 76, 49, 26],\n",
    "    'height': [177, 163, 190, 179, 163, 183, 164],\n",
    "    'weight': [57, 69, 83, 75, 70, 83, 53],\n",
    "    'sex': ['F', 'F', 'M', 'M', 'F', 'M', 'F']\n",
    "}\n",
    "\n",
    "personas = pd.DataFrame(data)\n",
    "personas.set_index('name', inplace=True)\n",
    "\n",
    "surname_data = {\n",
    "    'Lilly': 'Potter',\n",
    "    'Caroline': 'Butter',\n",
    "    'Mark': 'Marquez',\n",
    "    'Alex': 'Song',\n",
    "    'Martha': 'Argerich',\n",
    "    'Lucas': 'Brown',\n",
    "    'Oliver': 'Atom'\n",
    "}\n",
    "\n",
    "surname = pd.Series(surname_data, name='surname')\n",
    "\n",
    "personas_ampliado = personas.copy()\n",
    "personas_ampliado = personas_ampliado.assign(surname=surname)\n",
    "personas_ampliado = personas_ampliado.reindex(columns=['surname'] + [col for col in personas_ampliado.columns if col != 'surname'])\n",
    "\n",
    "personas_ampliado['surname_age'] = personas_ampliado['surname'].str.cat(personas_ampliado['age'].astype(str), sep='_')"
   ]
  },
  {
   "cell_type": "code",
   "execution_count": 12,
   "id": "e6dff70e",
   "metadata": {
    "deletable": false,
    "editable": false,
    "nbgrader": {
     "cell_type": "code",
     "checksum": "180bfec9ee1b867ea4c817d19a03685c",
     "grade": true,
     "grade_id": "ej1-test",
     "locked": true,
     "points": 1.5,
     "schema_version": 3,
     "solution": false,
     "task": false
    }
   },
   "outputs": [],
   "source": [
    "import pandas as pd\n",
    "assert(isinstance(personas, pd.core.frame.DataFrame) and isinstance(personas_ampliado, pd.core.frame.DataFrame) and\n",
    "       isinstance(surname, pd.core.frame.Series))\n",
    "\n",
    "assert(personas.shape == (7, 4) and personas.index.size == 7 and personas.index[0] == \"Alex\")\n",
    "assert(personas_ampliado.shape == (7, 6) and personas_ampliado.index.size == 7 and personas_ampliado.index[0] == \"Alex\")\n",
    "assert(personas_ampliado.dtypes[\"surname_age\"].name == \"object\")\n",
    "assert(personas_ampliado[\"surname_age\"].loc[\"Lucas\"] == \"Brown_49\")\n",
    "assert(surname.index.to_list() == [\"Lilly\", \"Caroline\", \"Mark\", \"Alex\", \"Martha\", \"Lucas\", \"Oliver\"])"
   ]
  },
  {
   "cell_type": "markdown",
   "id": "3ee0823a",
   "metadata": {
    "deletable": false,
    "editable": false,
    "nbgrader": {
     "cell_type": "markdown",
     "checksum": "bbd5837385e613d41727c21dae2d3b47",
     "grade": false,
     "grade_id": "ej2_enunciado",
     "locked": true,
     "schema_version": 3,
     "solution": false,
     "task": false
    }
   },
   "source": [
    "**Ejercicio 2 (3 puntos).** Usando el dataset `state_x77.csv`, leerlo a un DataFrame en la variable `state_x77` usando como índice la columna \"State\" que contiene los nombres de los estados. (recuerda el argumento `index_col`). \n",
    "\n",
    "- Una vez hecho esto, crear una variable `state_df` como copia de `state_x77` para después modificarla reemplazando por `None` **todos los valores de la columna `Murder` para aquellos estados cuya `Life Exp` (esperanza de vida) es estrictamente superior a la media global del dataset**. El contenido de `state_x77` no debe modificarse. Para esto, crear primero una máscara booleana sobre las filas y guardarla en la variable `mayor_esp_mask` utilizando los nombres de fila extraídos de `state_x77` y después, aplica esa máscara para modificar solamente los valores de esas filas de la columna `Murder`. \n",
    "  * PISTA: el índice del DF no es una columna y por tanto, tampoco es una serie, pero puedes convertirlo a serie utilizando la función `to_series()` aplicada al índice del DF.\n",
    "  * PISTA: calcula primero la esperanza de vida media y almacénala en la variable `esperanza_media`.\n",
    "\n",
    "- En el propio `state_df` añadir una fila nueva cuyo nombre de fila sea `Media` que contenga en cada columna la media de los valores de todas las filas de esa columna, usando la función `mean` de los DataFrame (no de las series) con `axis=0` (consulta la ayuda [aquí](https://pandas.pydata.org/docs/reference/api/pandas.DataFrame.mean.html)). La fila debe crearse con ese nombre directamente, en vez de indicar el nombre después. Los valores nulos deben ignorarse para la suma (consulta los argumentos de `sum`).\n",
    "\n",
    "- A continuación, crear una **función** `resta_media(df)` que reciba un DataFrame cualquiera, acerca del cual podemos asumir que todas sus columnas son numéricas y que va a existir una **fila** con nombre `Media`. La función debe **devolver un nuevo DataFrame** que tendrá el **doble de columnas** que el DF pasado como argumento: la primera mitad de ellas serán idénticas al original, y la segunda mitad (es decir, las añadidas por la derecha) serán el resultado de restar a las originales la media de la columna correspodiente, que se encuentra en la fila `Media`. Los nombres de las nuevas columnas deben ser iguales a los de las columnas originales, pero con la terminación `_centr` de *centrada* (puedes usar `f\"{variable}_centr\"` o el operador de concatenación `+`). La función **no debe modificar en ningún momento el DF pasado como argumento**.\n",
    "  * *La función no debe estar pensada específicamente para el DF `state_df` sino para cualquier DF en el que se cumplan las condiciones descritas*. PISTA: crea una nueva variable dentro de la función llamada `resultado`, que inicialmente sea igual al argumento `df`, y ve añadiéndole las nuevas columnas.\n",
    "\n",
    "- Como caso particular, invocar la función creada sobre el data.frame `state_df` y guardar el resultado en la variable `state_df_centr`. "
   ]
  },
  {
   "cell_type": "code",
   "execution_count": 13,
   "id": "ec0058f2",
   "metadata": {
    "deletable": false,
    "nbgrader": {
     "cell_type": "code",
     "checksum": "9e1c96fb688c05e69460f5fb06379d8b",
     "grade": false,
     "grade_id": "ej2_solucion",
     "locked": false,
     "schema_version": 3,
     "solution": true,
     "task": false
    }
   },
   "outputs": [],
   "source": [
    "state_x77 = None\n",
    "state_df = None\n",
    "mayor_esp_mask = None\n",
    "esperanza_media = None\n",
    "\n",
    "def resta_media(df):\n",
    "    resultado = df.copy()\n",
    "    media = df.loc[\"Media\"]\n",
    "    for columna in df.columns:\n",
    "        resultado[f\"{columna}_centr\"] = resultado[columna] - media[columna]\n",
    "    return resultado\n",
    "\n",
    "state_df_centr = None\n",
    "\n",
    "import pandas as pd\n",
    "state_x77 = pd.read_csv(\"https://raw.githubusercontent.com/eduardofc/data/main/state_x77.csv\", \n",
    "                        index_col=\"State\")\n",
    "\n",
    "state_df = state_x77.copy()\n",
    "esperanza_media = state_x77[\"Life Exp\"].mean()\n",
    "mayor_esp_mask = state_x77[\"Life Exp\"] > esperanza_media\n",
    "\n",
    "state_df.loc[mayor_esp_mask, \"Murder\"] = None\n",
    "state_df.loc[\"Media\"] = state_df.mean(axis=0)\n",
    "state_df_centr = resta_media(state_df)\n"
   ]
  },
  {
   "cell_type": "code",
   "execution_count": 14,
   "id": "b72d3a6d",
   "metadata": {
    "deletable": false,
    "editable": false,
    "nbgrader": {
     "cell_type": "code",
     "checksum": "384dc93b7feb61a2da227c43ff0aaaac",
     "grade": true,
     "grade_id": "ej2-test",
     "locked": true,
     "points": 3,
     "schema_version": 3,
     "solution": false,
     "task": false
    }
   },
   "outputs": [],
   "source": [
    "assert(isinstance(state_df, pd.core.frame.DataFrame) and state_df.shape == (51, 8))\n",
    "assert(state_df.index.to_list() == state_x77.index.to_list() + [\"Media\"])\n",
    "\n",
    "assert(isinstance(mayor_esp_mask, pd.core.frame.Series) and mayor_esp_mask.dtypes.name == \"bool\" \n",
    "       and mayor_esp_mask.size == 50 and mayor_esp_mask.sum() == 23)\n",
    "\n",
    "result_df = resta_media(state_df)\n",
    "assert(result_df.shape == (51, 16))\n",
    "assert(len([x for x in list(map(lambda x: x + \"_centr\", state_df.columns)) if x in list(result_df.columns)]) == 8) # comprobar nuevos nombres\n",
    "assert(round(resta_media(state_df).loc[\"Virginia\", \"Income_centr\"], 3) == 265.2)"
   ]
  },
  {
   "cell_type": "markdown",
   "id": "27dae476",
   "metadata": {
    "deletable": false,
    "editable": false,
    "nbgrader": {
     "cell_type": "markdown",
     "checksum": "03cb4aeb65fffcd575f060fc6ed193a4",
     "grade": false,
     "grade_id": "ej3-enunciado",
     "locked": true,
     "schema_version": 3,
     "solution": false,
     "task": false
    }
   },
   "source": [
    "**Ejercicio 3 (2 puntos)** Con la variable `state_df` definida anteriormente:\n",
    "\n",
    "- **Copiar** su contenido a una nueva variable `state_df_abb` (no es suficiente con sólo asignarla). \n",
    "- Añadir a `state_df_abb` una nueva columna `Division` (con D mayúscula) que sea de tipo **Series** y cuyo contenido sea el contenido de la variable `division` que puedes encontrar creada a continuación y que no debes modificar. El orden de los valores corresponde a los estados en el mismo que en el DF `state_df`. Para añadirla como series, primero crea un objeto Series cuyo índice sea exactamente el mismo que el del DF `state_df_abb`, almacénalo en la variable `division_series`, y finalmente añade dicho objeto como columna.\n",
    "\n",
    "- Utilizando la función `groupby` con la variable `Division` como agrupadora y la variable numérica `Life Exp` (esperanza de vida) como objetivo, calcular la **esperanza de vida máxima en cada zona de EEUU** y almacenar el resultado en la variable `esperanza_max_df` que almacenará un DF. Dentro de `agg` puedes usar la función `np.max` de Numpy. Asegúrate de que la división quede *como el índice* del DF devuelto como resultado, que tendrá una sola columna como tal que debe llamarse `Life Exp` (renombra en caso necesario), además del índice.\n",
    "\n",
    "- Añadir a `state_df_abb` una nueva columna `Division_max_esperanza` que tenga, para cada estado, la esperanza máxima de la división a la que pertenece el estado. PISTA: utiliza `.loc[]` sobre la Serie (columna) `Life Exp` de `esperanza_max_df`, aprovechando que su índice son los nombres de división, y por tanto, puedes indexar sobre dicha serie si pasas los nombres de los elementos de la serie en el orden deseado. Dicho orden viene dado por la columna `Division` del DF `state_df_abb` (está permitido pasarle una Serie como argumento a `loc[]`). **No está permitido usar join ni merge ni nada similar**.\n",
    "  * PISTA: convierte la serie devuelta por `loc` en una lista de números reales con `to_list()` antes de asignarla al DF. De lo contrario, obtendrás todo el rato valores NaN ya que la serie tiene como índice el nombre de la división, lo cual no coincide con el índice del DF al que quieres asignar la columna, que son los nombres de estados. Al convertir la serie a lista evitamos que Python intente hacer coincidir los índices.\n",
    "\n",
    "- Seleccionar las filas de `state_df_abb` correspondientes a estados con `Murder` igual a `None`, creando una máscara booleana primero aplicando el método `isna()` del objeto Series (columna Murder). Para dichas, filas seleccionar solamente las columnas `Population`, `Income`, `Division_max_esperanza` y `Area`. Guardar el resultado en la variable `state_df_null_murder`."
   ]
  },
  {
   "cell_type": "code",
   "execution_count": 15,
   "id": "5181f462",
   "metadata": {
    "deletable": false,
    "nbgrader": {
     "cell_type": "code",
     "checksum": "7b0a54d3c00685fab38109e77ae4159d",
     "grade": false,
     "grade_id": "ej3-respuesta",
     "locked": false,
     "schema_version": 3,
     "solution": true,
     "task": false
    }
   },
   "outputs": [],
   "source": [
    "division = [\n",
    "    \"East South Central\", \"Pacific\", \"Mountain\", \"West South Central\", \"Pacific\", \"Mountain\", \"New England\", \"South Atlantic\", \n",
    "    \"South Atlantic\", \"South Atlantic\", \"Pacific\", \"Mountain\", \"East North Central\", \"East North Central\", \n",
    "    \"West North Central\", \"West North Central\", \"East South Central\", \"West South Central\", \"New England\", \"South Atlantic\",\n",
    "    \"New England\", \"East North Central\", \"West North Central\", \"East South Central\", \"West North Central\", \"Mountain\",\n",
    "    \"West North Central\", \"Mountain\", \"New England\", \"Middle Atlantic\", \"Mountain\", \"Middle Atlantic\", \"South Atlantic\",\n",
    "    \"West North Central\", \"East North Central\", \"West South Central\", \"Pacific\", \"Middle Atlantic\", \"New England\",\n",
    "    \"South Atlantic\", \"West North Central\", \"East South Central\", \"West South Central\", \"Mountain\", \"New England\",\n",
    "    \"South Atlantic\", \"Pacific\", \"South Atlantic\", \"East North Central\", \"Mountain\", \"Ninguna\"]\n",
    "\n",
    "division_series = None\n",
    "state_df_abb = None\n",
    "esperanza_max_df = None\n",
    "division_mean_income = None          # Guarda aquí el objeto Series devuelto por .loc[] aplicado a la columna Life Exp\n",
    "\n",
    "state_df_null_murder = None\n",
    "\n",
    "import pandas as pd\n",
    "import numpy as np\n",
    "\n",
    "state_df_abb = state_df.copy()\n",
    "\n",
    "division_series = pd.Series(division, index=state_df_abb.index)\n",
    "state_df_abb['Division'] = division_series\n",
    "\n",
    "esperanza_max_df = state_df_abb.groupby('Division')['Life Exp'].agg('max')\n",
    "esperanza_max_df = esperanza_max_df.reset_index()\n",
    "esperanza_max_df = esperanza_max_df.set_index('Division')\n",
    "esperanza_max_df.loc['Ninguna', 'Life Exp'] = 0\n",
    "state_df_abb['Division_max_esperanza'] = esperanza_max_df.loc[state_df_abb['Division']].values\n",
    "\n",
    "mask_null_murder = state_df_abb['Murder'].isna()\n",
    "state_df_null_murder = state_df_abb.loc[mask_null_murder, ['Population', 'Income', 'Division_max_esperanza', 'Area']]\n",
    "\n",
    "#print(esperanza_max_df)\n",
    "#state_df_abb.head()"
   ]
  },
  {
   "cell_type": "code",
   "execution_count": 16,
   "id": "bf132189",
   "metadata": {
    "deletable": false,
    "editable": false,
    "nbgrader": {
     "cell_type": "code",
     "checksum": "86018fc2b632aa1158a28bd218ed5e9d",
     "grade": true,
     "grade_id": "ej3-test",
     "locked": true,
     "points": 2,
     "schema_version": 3,
     "solution": false,
     "task": false
    }
   },
   "outputs": [],
   "source": [
    "assert(isinstance(state_df_abb, pd.core.frame.DataFrame) and\n",
    "       isinstance(state_df_null_murder, pd.core.frame.DataFrame))\n",
    "\n",
    "assert(state_df_abb.shape == (51, 10))\n",
    "assert(state_df_null_murder.shape == (23, 4))\n",
    "\n",
    "assert((division_series.index == state_df_abb.index).all())\n",
    "assert(isinstance(state_df_abb[\"Division\"], pd.core.series.Series))    # Division no debe estar como strings sino como serie\n",
    "\n",
    "assert(round(esperanza_max_df[\"Life Exp\"].median(), 2) == 71.95)\n",
    "assert(state_df_abb.Division_max_esperanza.median() == 72.48)\n",
    "\n",
    "assert(round(state_df_null_murder.Area.mean(), 2) == 64949.39 and\n",
    "       state_df_null_murder.Population.median() == 2541.0)"
   ]
  },
  {
   "cell_type": "markdown",
   "id": "73b59d17",
   "metadata": {
    "deletable": false,
    "editable": false,
    "nbgrader": {
     "cell_type": "markdown",
     "checksum": "48d9cd579e75eb9d93f907a84d85350f",
     "grade": false,
     "grade_id": "ej4-enunciado",
     "locked": true,
     "schema_version": 3,
     "solution": false,
     "task": false
    }
   },
   "source": [
    "**Ejercicio 4 (2.5 puntos)** Crear una función `winsorizar` que reciba **dos** argumentos: el primero debe ser un DataFrame del cual asumimos que todas las columnas son numéricas, y el segundo debe ser un número real entre 0 y 1 llamado `q` con valor por defecto 0.8. La función debe devolver un nuevo DataFrame con el doble de columnas que el original: la primera mitad serán tal cual las mismas del DF original, pero la segunda mitad serán esas mismas columnas tras reemplazar los valores extremos por el percentil indicado en el argumento, renombradas para que se llamen igual que la columna original pero con sufijo `_wins`, calculadas de la siguiente manera:\n",
    "* Si el usuario indica `q=0.9`, significa que para cada columna, cualquier valor menor del 5 % (percentil 5) de esa columna debe fijarse al percentil 5, es decir, reemplazamos los valores más pequeños para que nunca sean menores que ese 5 %. De igual forma, reemplazamos los valores que sean mayores que el 95 % de los datos (percentil 95) de esa columna por el valor correspondiente al percentil 95.\n",
    "* Si el usuario hubiese indicado `q=0.8`, el mínimo valor permitido en cualquier columna sería el percentil 10 (y reemplazamos cualquier valor menor que ese por dicho percentil) y el máximo, el percentil 90. De forma general, para el valor `q` fijaremos el mínimo en el percentil (1-q)/2 y el máximo en el percentil (q + (1-q)/2). \n",
    "* **OJO**: el **valor** por el que reemplazamos los más pequeños **NO** es (1-q)/2 sino el valor que corresponda con el percentil (1-q)/2 de los datos que tiene esa variable.\n",
    "* PISTA: puedes calcular el percentil deseado de un objeto Series con la [functión `quantile`](https://pandas.pydata.org/pandas-docs/stable/reference/api/pandas.Series.quantile.html) que se invoca como `s.quantile(valor)` siendo `valor` el percentil deseado. Dejaremos sin valor todos los demás argumentos de `quantile`.\n",
    "* PISTA: empieza calculando los dos percentiles que necesitas aplicar en dos variables locales creadas en la función (por ejemplo `min_percentil` y `max_percentil`, y después en un bucle puedes ir calculando esos percentiles sobre cada columna concreta, invocando en cada iteración dos veces a la función `quantile` con cada uno de los dos valores anteriores. Tras obtener los dos valores que forman los percentiles de la columna, habrá que modificar mediante dos máscaras booleanas (independientes) los valores que sean *mayores o iguales* que el percentil mayor, y *menores o iguales* que el percentil menor, para reemplazarlos por dichos valores respectivamente utilizando `.loc` aplicado a la nueva columna, que primero puedes crearla al mismo valor que la original para luego modificarla en esa iteración.\n",
    "* PISTA: puedes comprobar que el argumento del usuario esté entre 0 y 1, y devolver None en caso de que no lo esté, pero no es obligatorio hacerlo. Puedes asumir que el usuario siempre nos proporcionará un valor de `q` entre 0 y 1.\n",
    "\n",
    "El DF que la función recibe como argumento **no debe modificarse**.\n",
    "* La función debe estar pensada para cualquier DF que tenga columnas numéricas.\n",
    "* Como caso particular, invocar a la función sobre el DF `state_df` creado en el ejercicio 2. Almacena el resultado en la variable `states_winsorizado_df`.\n",
    "\n",
    "RECORDATORIO: el percentil `p` de un vector numérico `v` es el valor de `v` que, tras ordenar `v` de menor a mayor, deja a su izquierda el `p` % de los valores más pequeños que él, y a su derecha el (1-`p`)% de valores mayores que él. Es muy habitual que el percentil no sea exactamente igual a ninguno de los valores del vector sino que se calcule como una interpolación de los valores más próximos que sí pertenecen al vector."
   ]
  },
  {
   "cell_type": "code",
   "execution_count": 17,
   "id": "4bf7c299",
   "metadata": {
    "deletable": false,
    "nbgrader": {
     "cell_type": "code",
     "checksum": "3611f3ff5c77a099466b7706732b5bde",
     "grade": false,
     "grade_id": "ej4-respuesta",
     "locked": false,
     "schema_version": 3,
     "solution": true,
     "task": false
    }
   },
   "outputs": [],
   "source": [
    "def winsorizar(df, q=0.8):\n",
    "    # Copiar el df original a otra variable que utilizaremos todo el rato\n",
    "    # Calcular percentil mínimo y máximo\n",
    "    # Para cada columna:\n",
    "        # construir el nuevo nombre de columna, y crear la nueva columna inicialmente al mismo valor que la original\n",
    "        # calcular cota inferior y superior de esa columna a partir de los percentiles\n",
    "        # calcular máscaras para reemplazar en función de dichas cotas, y aplicar esas dos máscaras\n",
    "     # Comprobar que q esté entre 0 y 1\n",
    "    if not (0 <= q <= 1):\n",
    "        print(\"El valor de q debe estar entre 0 y 1.\")\n",
    "        return None\n",
    "\n",
    "    # Crear un nuevo DataFrame para almacenar los resultados\n",
    "    winsorized_df = df.copy()\n",
    "\n",
    "    # Calcular los percentiles mínimo y máximo\n",
    "    min_percentile = (1 - q) / 2\n",
    "    max_percentile = q + (1 - q) / 2\n",
    "\n",
    "    # Iterar a través de las columnas del DataFrame\n",
    "    for col in df.columns:\n",
    "        # Calcular el percentil mínimo y máximo para cada columna\n",
    "        min_val = df[col].quantile(min_percentile)\n",
    "        max_val = df[col].quantile(max_percentile)\n",
    "\n",
    "        # Aplicar máscaras booleanas para reemplazar los valores extremos\n",
    "        winsorized_df[col + \"_wins\"] = df[col].copy()\n",
    "        winsorized_df.loc[winsorized_df[col + \"_wins\"] < min_val, col + \"_wins\"] = min_val\n",
    "        winsorized_df.loc[winsorized_df[col + \"_wins\"] > max_val, col + \"_wins\"] = max_val\n",
    "\n",
    "    return winsorized_df\n",
    "\n",
    "states_winsorizado_df = None\n",
    "\n",
    "import pandas as pd\n",
    "\n",
    "# Ejemplo de uso con state_df\n",
    "# Supongamos que state_df es tu DataFrame original\n",
    "states_winsorizado_df = winsorizar(state_df, q=0.9)\n"
   ]
  },
  {
   "cell_type": "code",
   "execution_count": 18,
   "id": "6cfc60ee",
   "metadata": {
    "deletable": false,
    "editable": false,
    "nbgrader": {
     "cell_type": "code",
     "checksum": "e279f394fab209452484c2d82780b57d",
     "grade": true,
     "grade_id": "ej4-test",
     "locked": true,
     "points": 2.5,
     "schema_version": 3,
     "solution": false,
     "task": false
    }
   },
   "outputs": [],
   "source": [
    "import inspect\n",
    "winsorizar_source = inspect.getsource(winsorizar)\n",
    "assert(\"state_df\" not in winsorizar_source and       # No se puede referenciar ningún DF externo a la función\n",
    "       \"state_x77\" not in winsorizar_source)\n",
    "mi_resultado = winsorizar(state_df)\n",
    "assert(isinstance(mi_resultado, pd.core.frame.DataFrame))\n",
    "assert(len(state_df.columns) == 8)                  # El DF original no debe haberse modificado\n",
    "assert(len(mi_resultado.columns) == 16)\n",
    "assert(set(['Area_wins', 'Population_wins', 'Income_wins', 'Illiteracy_wins',\n",
    "       'Life Exp_wins', 'Murder_wins', 'HS Grad_wins', 'Frost_wins', 'Area_wins']).issubset(mi_resultado.columns))\n",
    "assert(round(mi_resultado[\"Area_wins\"].median(), 5) == 54464.0)\n",
    "assert(round(mi_resultado[\"Frost_wins\"].median(), 5) == 114.0)"
   ]
  },
  {
   "cell_type": "markdown",
   "id": "49e2ee4e",
   "metadata": {
    "deletable": false,
    "editable": false,
    "nbgrader": {
     "cell_type": "markdown",
     "checksum": "c676db826e4b5649958263e513107767",
     "grade": false,
     "grade_id": "ej5-enunciado",
     "locked": true,
     "schema_version": 3,
     "solution": false,
     "task": false
    }
   },
   "source": [
    "**Ejercicio 5 (1 punto).** Leer el fichero `weather_usa.csv` en la variable `weather_df` y unirlo con el DF contenido en `state_x77` de la manera adecuada. Recuerda que los nombres de estados están en el *índice* de `state_x77`, no son ninguna columna. Almacenar el resultado de la operación en la variable `x77_weather_df`.\n",
    "\n",
    "A continuación:\n",
    "\n",
    "* A partir del DataFrame `x77_weather`, crear una máscara booleana (una serie) en la variable `north_mask` de la misma longitud que el índice del DF, que sea `True` en aquellas filas cuyo nombre empieza por `North`. PISTA: consulta la documentación de la función [Series.str.startswith](https://pandas.pydata.org/pandas-docs/stable/reference/api/pandas.Series.str.startswith.html) de los objetos Series, que devuelve una Serie de booleanos.\n",
    "* Necesitarás convertir primero el índice del DF en un objeto Series con el método `.to_series()` para poder aplicar a dicha serie el método `.str.startswith(prefijo)`.\n",
    "* Aplica a `x77_weather_df` la máscara construida para obtener un DF que sólo contenga dichas filas, y guárdalo en la variable `north_df`."
   ]
  },
  {
   "cell_type": "code",
   "execution_count": 19,
   "id": "f99a4106",
   "metadata": {
    "deletable": false,
    "nbgrader": {
     "cell_type": "code",
     "checksum": "a8884b40a5b94515028ceb4ed3d5dab5",
     "grade": false,
     "grade_id": "ej5-respuesta",
     "locked": false,
     "schema_version": 3,
     "solution": true,
     "task": false
    }
   },
   "outputs": [],
   "source": [
    "import pandas as pd\n",
    "\n",
    "weather_df = None\n",
    "x77_weather_df = None\n",
    "north_mask = None\n",
    "north_df = None\n",
    "\n",
    "weather_df = pd.read_csv(\"https://raw.githubusercontent.com/eduardofc/data/main/weather_usa.csv\", \n",
    "                        index_col=\"State\")\n",
    "\n",
    "# Unir los DataFrames utilizando el índice de state_x77\n",
    "x77_weather_df = state_x77.join(weather_df, how='inner')\n",
    "\n",
    "# Crear una máscara booleana para las filas que comienzan con \"North\"\n",
    "north_mask = x77_weather_df.index.to_series().str.startswith(\"North\")\n",
    "\n",
    "# Aplicar la máscara al DataFrame x77_weather_df\n",
    "north_df = x77_weather_df[north_mask]\n",
    "\n",
    "# north_df contendrá solo las filas cuyos nombres de estados comienzan con \"North\"\n"
   ]
  },
  {
   "cell_type": "code",
   "execution_count": 20,
   "id": "0edb948b",
   "metadata": {
    "deletable": false,
    "editable": false,
    "nbgrader": {
     "cell_type": "code",
     "checksum": "495459668c2c758780212cc6972bc43d",
     "grade": true,
     "grade_id": "ej5-test",
     "locked": true,
     "points": 1,
     "schema_version": 3,
     "solution": false,
     "task": false
    }
   },
   "outputs": [],
   "source": [
    "assert(isinstance(x77_weather_df, pd.core.frame.DataFrame) and\n",
    "       isinstance(north_df, pd.core.frame.DataFrame) and\n",
    "       isinstance(weather_df, pd.core.frame.DataFrame))\n",
    "assert(isinstance(north_mask, pd.core.frame.Series))\n",
    "assert(x77_weather_df.shape == (50, 14) and\n",
    "       north_df.shape == (2, 14))\n",
    "assert(north_df[\"Population\"].mean() == 3039.0)\n",
    "assert(north_df[\"temp_celsius\"].mean() == 9.85)"
   ]
  },
  {
   "cell_type": "code",
   "execution_count": null,
   "id": "3cc18057-294c-4826-8e05-357d244e404f",
   "metadata": {},
   "outputs": [],
   "source": []
  }
 ],
 "metadata": {
  "kernelspec": {
   "display_name": "Python 3 (ipykernel)",
   "language": "python",
   "name": "python3"
  },
  "language_info": {
   "codemirror_mode": {
    "name": "ipython",
    "version": 3
   },
   "file_extension": ".py",
   "mimetype": "text/x-python",
   "name": "python",
   "nbconvert_exporter": "python",
   "pygments_lexer": "ipython3",
   "version": "3.9.18"
  }
 },
 "nbformat": 4,
 "nbformat_minor": 5
}
