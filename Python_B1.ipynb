{
 "cells": [
  {
   "cell_type": "markdown",
   "id": "fc878b2c",
   "metadata": {
    "deletable": false,
    "editable": false,
    "nbgrader": {
     "cell_type": "markdown",
     "checksum": "4259274652418971f5eb6da546e510f0",
     "grade": false,
     "grade_id": "cell-445ebca9e141e6b8",
     "locked": true,
     "schema_version": 3,
     "solution": false,
     "task": false
    }
   },
   "source": [
    "# Relación de ejercicios 1\n",
    "\n",
    "### Lee detenidamente las siguientes instrucciones y borra `raise NotImplementedError` en todas las celdas\n",
    "\n",
    "En cada trozo de código debes responder a la pregunta formulada, asegurándote de que el resultado queda guardado en la(s) variable(s) indicadas, que por defecto vienen inicializadas a `None`. Puedes usar variables intermedias siempre que el resultado final del cálculo quede guardado exactamente en la variable que indica el enunciado (debes reemplazar `None` el código necesario, pero nunca cambiar el nombre de las variables ya creadas). \n",
    "\n",
    "Después de cada ejercicio verás varias líneas de código ya hechas. Ejecútalas todas (no modifiques su código) y te dirán si tu solución es correcta o no, sin darte pistas de cómo se resuelve (el código de los tests no guarda relación con el código de la solución). Si la solución es correcta, no se mostrará nada, pero si es incorrecta, verás un error indicando cuál es el test que tu solución no pasa. Además de esas pruebas, se realizarán algunas más (ocultas) a la hora de puntuar el ejercicio, pero si tu código pasa con éxito las líneas que ves, puedes estar bastante seguro de que tu solución es correcta. Asegúrate de que todas las celdas de auto-evaluación indican que tu solución es correcta antes de subir el ejercicio a la plataforma. En caso contrario, no dudes en preguntar las dudas a través del foro -siempre explicando la duda en palabras, sin pegar código fuente-.\n",
    "\n",
    "Una vez finalizada la actividad, guarda tu fichero, ciérralo con File -> Close and Halt, y después vuélvelo a abrir y ejecútalo completo pinchando en Cell -> Run All Cells, y asegúrate de que no se lanza ningún error. De esta manera comprobarás que no has olvidado nada y que es posible ejecutarlo completo desde 0 y sin errores. No se corregirá ningún fichero que tenga errores de sintaxis y no se pueda, como mínimo, ejecutar completamente. No pasa nada si alguna de las comprobaciones lanza errores por ser incorrecta, pero el código de cada ejercicio no puede tener errores de sintaxis y debe al menos poderse ejecutar.\n",
    "\n",
    "RECUERDA SUBIR CADA UNO DE LOS FICHEROS .ipynb TAL CUAL (sueltos), SIN COMPRIMIR Y SIN CAMBIARLES EL NOMBRE. Los ficheros subidos deben tener **exactamente el mismo nombre de fichero que tenían cuando los recibiste**. No subas ningún PDF ni ningún fichero ZIP ni nada similar. La plataforma ya los separa automáticamente en carpetas que traen el nombre y apellidos del alumno, por lo que NO es necesario que lo pongas en ninguna parte."
   ]
  },
  {
   "cell_type": "markdown",
   "id": "bbbe8a4d",
   "metadata": {
    "deletable": false,
    "editable": false,
    "nbgrader": {
     "cell_type": "markdown",
     "checksum": "652963ec11d5675ccd0aa223ee174924",
     "grade": false,
     "grade_id": "ej1_enunciado",
     "locked": true,
     "schema_version": 3,
     "solution": false,
     "task": false
    }
   },
   "source": [
    "**Ejercicio 1 (2 puntos)**\n",
    "\n",
    "* Crear en la variable `lista` una **lista** de enteros empezando en -4, no mayores que 150 en pasos de 10 elementos\n",
    "* Crear en la variable `arr` un ndarray con la función `np.array()` y a partir de él, crear en la variable `mascara` una máscara booleana de los elementos tales que *la raíz cuadrada de su valor absoluto es mayor que 5 pero menor que 10*. **No está permitido utilizar bucles**. No olvides los `import` necesarios. Puedes usar la función `np.abs` y `np.sqrt` que están vectorizadas y se pueden aplicar sobre un array directamente. PISTA: puedes usar dos variables auxiliares `cond_1` y `cond_2` para almacenar las máscaras dos condiciones anteriores (mayor que, y menor que) y unirlas con `&` de numpy en un solo vector booleano.\n",
    "  * Recuerda que `mascara` debe contener un vector de booleanos. **No debe contener números, sino valores boolenaos True o False**.\n",
    "* Calcula en la variable `n_cond` el número total de elementos que cumplen la condición. *No está permitido asignar el valor a mano*.\n",
    "* Utilizando la máscara, reemplazar en la propia variable `arr` los elementos que cumplen la condición por *la raíz cuadrada de su valor absoluto*. **No está permitido utilizar bucles**.\n",
    "* Crear en la variable `matriz` un array (una matriz) de 3 filas que deben ser el vector `arr` tras el reemplazamiento, el doble de dicho vector, y la mitad del mismo, respectivamente. PISTA: utiliza la misma función que has empleado para crear el array, pasándole una lista formada por los 3 vectores indicados, tendrás la matriz. Comprueba sus dimensiones con `shape` después."
   ]
  },
  {
   "cell_type": "code",
   "execution_count": 1,
   "id": "6625ca1e",
   "metadata": {
    "deletable": false,
    "nbgrader": {
     "cell_type": "code",
     "checksum": "9ca876a085d9dbc0ebeed494f5734d79",
     "grade": false,
     "grade_id": "ej1_solucion",
     "locked": false,
     "schema_version": 3,
     "solution": true,
     "task": false
    }
   },
   "outputs": [],
   "source": [
    "import numpy as np\n",
    "lista = None\n",
    "arr = None\n",
    "cond_1 = None\n",
    "cond_2 = None\n",
    "mascara = None\n",
    "n_cond = None\n",
    "matriz = None\n",
    "\n",
    "lista = list(range(-4, 151, 10))\n",
    "\n",
    "arr = np.array(lista)\n",
    "\n",
    "cond_1 = np.sqrt(np.abs(arr)) > 5\n",
    "cond_2 = np.sqrt(np.abs(arr)) < 10\n",
    "\n",
    "mascara = cond_1 & cond_2\n",
    "n_cond = np.count_nonzero(mascara)\n",
    "arr[mascara] = np.sqrt(np.abs(arr[mascara]))\n",
    "matriz = np.array([arr, 2 * arr, 0.5 * arr])\n"
   ]
  },
  {
   "cell_type": "code",
   "execution_count": 2,
   "id": "54e8ea34",
   "metadata": {
    "deletable": false,
    "editable": false,
    "nbgrader": {
     "cell_type": "code",
     "checksum": "23695bcf0af0619d9e62f40dd083f3a9",
     "grade": true,
     "grade_id": "ej1_test",
     "locked": true,
     "points": 2,
     "schema_version": 3,
     "solution": false,
     "task": false
    }
   },
   "outputs": [],
   "source": [
    "import numpy as np\n",
    "assert(isinstance(lista, list))\n",
    "assert(len(lista) == 16)\n",
    "assert(min(lista) == -4 and max(lista) == 146 and sum(lista) == 1136)   # el contenido de la lista es incorrecto\n",
    "assert(isinstance(arr, np.ndarray) and arr.size == 16)\n",
    "assert(isinstance(mascara, np.ndarray) and mascara.size == 16 and mascara.dtype.name == \"bool\")  # array booleano\n",
    "assert(n_cond == 8)\n",
    "assert(isinstance(matriz, np.ndarray) and matriz.shape == (3, 16))\n",
    "assert(arr.sum() == 706)          # suma de los valores de arr tras el reemplazamiento mediante la máscara\n",
    "assert(matriz.sum() == 2471)"
   ]
  },
  {
   "cell_type": "markdown",
   "id": "8b64966e",
   "metadata": {
    "deletable": false,
    "editable": false,
    "nbgrader": {
     "cell_type": "markdown",
     "checksum": "e305209125167b781436e2d984246ac3",
     "grade": false,
     "grade_id": "ej2_enunciado",
     "locked": true,
     "schema_version": 3,
     "solution": false,
     "task": false
    }
   },
   "source": [
    "**Ejercicio 2 (2 puntos)**\n",
    "\n",
    "* (a) **Sin utilizar bucles ni `map`**, crear una función `armonica` que reciba un solo argumento, que será un vector numérico de numpy, y calcule la *media armónica* de los datos de dicho vector, como indica la siguiente fórmula:\n",
    "\n",
    "  - Dado un vector n-dimensional $v = (v_1, ..., v_n)$, se define la media armónica como \n",
    "  \n",
    "  $$H = \\frac{n}{\\frac{1}{v_1} + \\frac{1}{v_2} + ... + \\frac{1}{v_n}}$$  siendo $n$ la dimensión (longitud) del vector\n",
    "  \n",
    "Recuerda que el operador `/` está vectorizado para vectores de numpy y es posible dividir un número entre un vector. La función para sumar los elementos de un vector se denomina `sum()` y es un método del array (no necesitas `np.sum(array)` aunque también existe). \n",
    "\n",
    "* Utilizando la función `np.apply_along_axis`, invocar a la función `armonica` sobre cada **columna** de la matriz `matriz` definida en el ejercicio anterior, almacenando el resultado en la variable `medias_columnas` que al final contendrá un vector de 3 elementos. PISTA: `np.apply_along_axis(funcion, axis, matriz)` sirve para aplicar una función definida por el usuario, la cual *debe estar pensada para recibir como argumento un vector*, a cada una de las dimensiones de un array. Debemos fijar `axis=0` para aplicarla a cada columna, lo cual resultará en un vector de 16 elementos (tantos como columnas) formado por los resultados de invocar 16 veces a la función (sobre cada una de las 16 columnas de la matriz)."
   ]
  },
  {
   "cell_type": "code",
   "execution_count": 3,
   "id": "abcdd1af",
   "metadata": {
    "deletable": false,
    "nbgrader": {
     "cell_type": "code",
     "checksum": "65380e5bedadacf1d130077abe872d2e",
     "grade": false,
     "grade_id": "ej2_solucion",
     "locked": false,
     "schema_version": 3,
     "solution": true,
     "task": false
    }
   },
   "outputs": [],
   "source": [
    "import numpy as np\n",
    "\n",
    "def armonica(vector):\n",
    "    n = len(vector)\n",
    "    return n / np.sum(1 / vector)\n",
    "\n",
    "copia_matriz = matriz.copy()\n",
    "medias_columnas = np.apply_along_axis(armonica, axis=0, arr=copia_matriz)\n",
    "#medias_columnas = armonica(vector)"
   ]
  },
  {
   "cell_type": "code",
   "execution_count": 4,
   "id": "4a3cae1a",
   "metadata": {
    "deletable": false,
    "editable": false,
    "nbgrader": {
     "cell_type": "code",
     "checksum": "bd4fb13e25f32d13bf95b5fd7e2e3882",
     "grade": true,
     "grade_id": "ej2_test",
     "locked": true,
     "points": 2,
     "schema_version": 3,
     "solution": false,
     "task": false
    }
   },
   "outputs": [],
   "source": [
    "import numpy as np\n",
    "import inspect\n",
    "armonica_source = inspect.getsource(armonica)\n",
    "assert(\"for\" not in armonica_source and \"while\" not in armonica_source)      # no se permite utilizar bucles en la función\n",
    "assert(isinstance(medias_columnas, np.ndarray) and medias_columnas.size == 16)\n",
    "assert(round(medias_columnas.mean(), 2) == 37.82)"
   ]
  },
  {
   "cell_type": "markdown",
   "id": "a502325c",
   "metadata": {
    "deletable": false,
    "editable": false,
    "nbgrader": {
     "cell_type": "markdown",
     "checksum": "52c87a99024ed895c530ddd6f59b693c",
     "grade": false,
     "grade_id": "ej3_enunciado",
     "locked": true,
     "schema_version": 3,
     "solution": false,
     "task": false
    }
   },
   "source": [
    "**Ejercicio 3 (2 puntos)**\n",
    "\n",
    "Crear una función `duplica_primer_valor` que reciba un argumento llamado `d` que será un diccionario donde todas las claves serán de tipo string y el valor asociado a cada clave será de tipo lista. La función debe duplicar el primer elemento de cada lista, añadiéndolo por el principio de nuevo, y debe devolver un nuevo diccionario con el resultado de dicha modificación (por tanto, el diccionario que le hemos pasado como argumento no debe ser modificado). Asumir que las listas siempre tendrán al menos un elemento. Las nuevas listas tendrán por tanto siempre un elemento más que las originales.\n",
    "* PISTA: utiliza **listas por comprensión** para crear una nueva lista de pares a partir de la lista formada por los pares del diccionario original. La nueva lista de pares creada debe tener en cada tupla su segundo elemento modificado, como el resultado de concatenar el elemento de la posición 0 con la lista original que ya existía asociada a esa clave. Finalmente, crea un nuevo diccionario con la functión `dict` a partir de dicha lista de pares, y devuélvelo.\n",
    "* PISTA: recuerda que el operador `+` sirve para concatenar listas, y que puedes construir una lista de un solo elemento con el operador `[elemento]` que luego puedes concatenar con la lista original para obtener una nueva lista.\n",
    "* Puedes probar la función sobre el diccionario `midict = {\"edad\": [22, 45, 32], \"nombre\": [\"Juan\", \"Paula\", \"Elena\"]}`."
   ]
  },
  {
   "cell_type": "code",
   "execution_count": 5,
   "id": "a48c04a9",
   "metadata": {
    "deletable": false,
    "nbgrader": {
     "cell_type": "code",
     "checksum": "f2bda3f3d43f0c24fed390ea18c69d11",
     "grade": false,
     "grade_id": "ej3_solucion",
     "locked": false,
     "schema_version": 3,
     "solution": true,
     "task": false
    }
   },
   "outputs": [],
   "source": [
    "def duplica_primer_valor(d):\n",
    "    nuevo_diccionario = {\n",
    "        clave: [valor[0]] + valor \n",
    "            for clave, valor \n",
    "            in d.items()\n",
    "    }\n",
    "    \n",
    "    return nuevo_diccionario\n",
    "\n",
    "midict = {\"edad\": [22, 45, 32], \"nombre\": [\"Juan\", \"Paula\", \"Elena\"]}\n",
    "nuevo_midict = duplica_primer_valor(midict)"
   ]
  },
  {
   "cell_type": "code",
   "execution_count": 6,
   "id": "79361ffb",
   "metadata": {
    "deletable": false,
    "editable": false,
    "nbgrader": {
     "cell_type": "code",
     "checksum": "c648bb2c92268291bad6926130e0289e",
     "grade": true,
     "grade_id": "ej3_test",
     "locked": true,
     "points": 2,
     "schema_version": 3,
     "solution": false,
     "task": false
    }
   },
   "outputs": [],
   "source": [
    "midict = {\"edad\": [22, 45, 32], \"nombre\": [\"Juan\", \"Paula\", \"Elena\"]}\n",
    "res = duplica_primer_valor(midict)\n",
    "assert(isinstance(res, dict) and len(res.items()) == 2)\n",
    "assert(res[\"edad\"] == [22, 22, 45, 32] and res[\"nombre\"] == [\"Juan\", \"Juan\", \"Paula\", \"Elena\"])"
   ]
  },
  {
   "cell_type": "markdown",
   "id": "37cca46e",
   "metadata": {
    "deletable": false,
    "editable": false,
    "nbgrader": {
     "cell_type": "markdown",
     "checksum": "6e841b32a0993d442744f949e57530a0",
     "grade": false,
     "grade_id": "ej4_enunciado",
     "locked": true,
     "schema_version": 3,
     "solution": false,
     "task": false
    }
   },
   "source": [
    "**Ejercicio 4 (2 puntos)**\n",
    "\n",
    "Implementa una función `quita_nombres_largos` que reciba dos argumentos: el primero llamado `personas` debe ser una lista de diccionarios, cada uno con datos personales de una persona, entre los cuales se encuentra el campo `\"nombre\"`. El segundo, llamado `max_long`, debe ser un entero y debe tener valor por defecto 8 si no se especifica dicho argumento. La función debe devolver una nueva lista en la que se han descartado aquellas personas cuyo campo `nombre` tenga longitud mayor que `max_long`. Puedes probar tu función con la lista `personas = [{\"nombre\": \"Hermenegilda\", \"edad\": 15}, {\"nombre\": \"José Luis\", \"edad\": 59}, {\"nombre\": \"Marisa\", \"edad\": 42}, {\"edad\": 33}]`.\n",
    "* PISTA: utiliza **listas por comprensión con un if dentro**, para recorrer la lista de personas y construir otra lista en la que sólo estará cada persona si la longitud de su nombre es menor o igual que la longitud máxima indicada como argumento.\n",
    "* PISTA: tener en cuenta que alguno de los diccionarios puede no contener el campo \"nombre\" en cuyo caso dicha persona no será incluida en la lista resultante, pero *el código no debe lanzar ningún error* en dicho caso. Recuerda la función `get()` de los diccionarios."
   ]
  },
  {
   "cell_type": "code",
   "execution_count": 7,
   "id": "fd1eb7a8",
   "metadata": {
    "deletable": false,
    "nbgrader": {
     "cell_type": "code",
     "checksum": "593a80116f94ec09820fc80386914c89",
     "grade": false,
     "grade_id": "ej4_solucion",
     "locked": false,
     "schema_version": 3,
     "solution": true,
     "task": false
    }
   },
   "outputs": [],
   "source": [
    "def quita_nombres_largos(personas, max_long = 8):\n",
    "    personas_filtradas = [\n",
    "        persona \n",
    "        for persona \n",
    "        in personas \n",
    "            if \"nombre\" in persona \n",
    "            and len(persona[\"nombre\"]) <= max_long\n",
    "    ]\n",
    "    return personas_filtradas\n",
    "    \n",
    "personas = [\n",
    "    {\"nombre\": \"Hermenegilda\", \"edad\": 15},\n",
    "    {\"nombre\": \"José Luis\", \"edad\": 59},\n",
    "    {\"nombre\": \"Marisa\", \"edad\": 42},\n",
    "    {\"nombre\": \"Kris\"},\n",
    "    {\"edad\": 33}\n",
    "]\n",
    "\n",
    "personas_filtradas = quita_nombres_largos(personas, 5)\n"
   ]
  },
  {
   "cell_type": "code",
   "execution_count": 8,
   "id": "1fa3506d",
   "metadata": {
    "deletable": false,
    "editable": false,
    "nbgrader": {
     "cell_type": "code",
     "checksum": "12bb02d64488384dcfe26ad3f1fde105",
     "grade": true,
     "grade_id": "ej4_test",
     "locked": true,
     "points": 2,
     "schema_version": 3,
     "solution": false,
     "task": false
    }
   },
   "outputs": [],
   "source": [
    "personas = [{\"nombre\": \"Hermenegilda\", \"edad\": 15}, {\"nombre\": \"José Luis\", \"edad\": 59}, {\"nombre\": \"Marisa\", \"edad\": 42}, {\"edad\": 33}]\n",
    "res_8 = quita_nombres_largos(personas)\n",
    "assert(isinstance(res_8, list) and len(res_8) == 1)\n",
    "assert(isinstance(res_8[0], dict))\n",
    "assert(res_8[0][\"nombre\"] == \"Marisa\")\n",
    "\n",
    "res_10 = quita_nombres_largos(personas, 10)\n",
    "assert(isinstance(res_10, list) and len(res_10) == 2)\n",
    "assert(isinstance(res_10[0], dict) and isinstance(res_10[1], dict))\n",
    "assert(res_10[0][\"nombre\"] == \"José Luis\" and res_10[1][\"nombre\"] == \"Marisa\")"
   ]
  },
  {
   "cell_type": "markdown",
   "id": "ea0ad8ce",
   "metadata": {
    "deletable": false,
    "editable": false,
    "nbgrader": {
     "cell_type": "markdown",
     "checksum": "6981fd94d4c6a04a80062271591bfb00",
     "grade": false,
     "grade_id": "ej5_enunciado",
     "locked": true,
     "schema_version": 3,
     "solution": false,
     "task": false
    }
   },
   "source": [
    "**Ejercicio 5 (2 puntos)**\n",
    "\n",
    "Implementa una función llamada `reemplaza_minimos` que reciba dos argumentos: \n",
    "* Un argumento `m` que será una matriz numérica bidimensional de numpy (array bidimensional)\n",
    "* Un segundo argumento `repl` que será un número real\n",
    "\n",
    "La función debe devolver **una nueva matriz** en la que se ha reemplazado en cada columna de la matriz el mínimo de esa columna por el valor del argumento `repl`. Para ello, aplica de nuevo la función `np.apply_along_axis(funcion, axis, matriz)` sobre una copia de la matriz `m`, con argumento `axis=0` (que significa \"aplicar a cada columna\") donde la función del primer argumento debe ser **una función lambda** de un solo argumento `v` (vector numérico de numpy), que devuelva un nuevo vector resultado de reemplazar en el vector columna original el mínimo de ese vector por `repl`. Dentro de dicha función lambda puedes hacer referencia a la variable `repl` de la función externa sin ningún problema.\n",
    "\n",
    "Puedes probar tu función sobre la matriz `matriz` definida en el Ejercicio 1, con `repl=-10`.\n",
    "\n",
    "* PISTA: dentro de la función, crea en primer lugar una variable llamada `copia_m` que contenga una copia de `m` (método `m.copy()`), después invoca a `np_apply_along_axis` y finalmente devuelve `copia_m` como resultado de la función `reemplaza_minimos`.\n",
    "* PISTA: Python no permite utilizar el operador de asignación dentro de una función lambda, pero puedes usar la función `np.put(v, indice, elemento)` que se comporta exactamente como si fuera `v[indice] = elemento`. Esto modifica directamente el vector pasado como argumento a la función lambda (es decir, cada columna de la matriz), lo cual no es ningún problema si invocas a la función `np_apply_along_axis` sobre una **copia** de la matriz *m* (y no sobre la matriz original que ha recibido `reemplaza_minimos`). Para saber el índice donde se encuentra el mínimo del vector puedes usar `argmin()` aplicada al array."
   ]
  },
  {
   "cell_type": "code",
   "execution_count": 9,
   "id": "edef573c",
   "metadata": {
    "deletable": false,
    "nbgrader": {
     "cell_type": "code",
     "checksum": "1e9988a6dc1f779ea809b4f30df3cd88",
     "grade": false,
     "grade_id": "ej5_solucion",
     "locked": false,
     "schema_version": 3,
     "solution": true,
     "task": false
    }
   },
   "outputs": [],
   "source": [
    "import numpy as np\n",
    "\n",
    "def reemplaza_minimos(m, repl):\n",
    "    # Hacer una copia de la matriz para no modificar la original\n",
    "    copia_m = m.copy()\n",
    "    \n",
    "    # Función lambda para reemplazar el mínimo en cada columna\n",
    "    def fun_lambda(columna):\n",
    "        fila = np.argmin(columna)\n",
    "        np.put(columna, fila, repl)\n",
    "        return columna\n",
    "    \n",
    "    # Aplicar la función a lo largo de cada columna\n",
    "    nueva_matriz = np.apply_along_axis(fun_lambda, axis = 0, arr = copia_m)\n",
    "    \n",
    "    return nueva_matriz\n",
    "\n",
    "repl = -10\n",
    "nueva_matriz = reemplaza_minimos(matriz, repl)\n"
   ]
  },
  {
   "cell_type": "code",
   "execution_count": 10,
   "id": "443b2552",
   "metadata": {
    "deletable": false,
    "editable": false,
    "nbgrader": {
     "cell_type": "code",
     "checksum": "9d299d99b494a9ca31e555221a964c32",
     "grade": true,
     "grade_id": "ej5_test",
     "locked": true,
     "points": 2,
     "schema_version": 3,
     "solution": false,
     "task": false
    }
   },
   "outputs": [],
   "source": [
    "import inspect\n",
    "import numpy as np\n",
    "reemplaza_minimos_source = inspect.getsource(reemplaza_minimos)\n",
    "m_antes = matriz.copy()\n",
    "assert(\"lambda\" in reemplaza_minimos_source and       # obligatorio utilizar una función lambda \n",
    "       \"put(\" in reemplaza_minimos_source and         # obligatorio utilizar la función np.put\n",
    "       \"copy()\" in reemplaza_minimos_source)          # obligatorio utilizar copy() para no modificar el argumento\n",
    "nueva_m = reemplaza_minimos(matriz, -10)\n",
    "assert(nueva_m is not None)\n",
    "assert((matriz == m_antes).all())                     # la matriz original pasada como argumento no puede ser modificada\n",
    "assert(nueva_m.sum() == 1964)"
   ]
  },
  {
   "cell_type": "code",
   "execution_count": null,
   "id": "874dcdda-670b-476a-8acc-be60fb1d6694",
   "metadata": {},
   "outputs": [],
   "source": []
  },
  {
   "cell_type": "code",
   "execution_count": null,
   "id": "84a405a2-2b4b-4610-b345-57ce57b51173",
   "metadata": {},
   "outputs": [],
   "source": []
  },
  {
   "cell_type": "code",
   "execution_count": null,
   "id": "dfbdf08a-11cd-44fc-996f-6890f6809fb9",
   "metadata": {},
   "outputs": [],
   "source": []
  }
 ],
 "metadata": {
  "kernelspec": {
   "display_name": "Python 3 (ipykernel)",
   "language": "python",
   "name": "python3"
  },
  "language_info": {
   "codemirror_mode": {
    "name": "ipython",
    "version": 3
   },
   "file_extension": ".py",
   "mimetype": "text/x-python",
   "name": "python",
   "nbconvert_exporter": "python",
   "pygments_lexer": "ipython3",
   "version": "3.10.13"
  }
 },
 "nbformat": 4,
 "nbformat_minor": 5
}
